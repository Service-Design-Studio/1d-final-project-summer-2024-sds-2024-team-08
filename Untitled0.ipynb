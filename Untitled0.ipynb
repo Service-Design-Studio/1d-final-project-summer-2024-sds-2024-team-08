{
  "cells": [
    {
      "cell_type": "code",
      "execution_count": 6,
      "metadata": {
        "colab": {
          "base_uri": "https://localhost:8080/"
        },
        "id": "HP5_m43q4Iq_",
        "outputId": "0cf60e61-0fc5-4be6-d3be-e14d7a9619f8"
      },
      "outputs": [
        {
          "name": "stdout",
          "output_type": "stream",
          "text": [
            "Note: you may need to restart the kernel to use updated packages.\n"
          ]
        }
      ],
      "source": [
        "%pip install --upgrade --quiet  langchain langchain-community langchain-openai langchain-experimental neo4j"
      ]
    },
    {
      "cell_type": "code",
      "execution_count": 7,
      "metadata": {
        "id": "GkopxQq24YhM"
      },
      "outputs": [],
      "source": [
        "import getpass\n",
        "import os\n",
        "# from google.colab import userdata\n",
        "\n",
        "# os.environ[\"OPENAI_API_KEY\"] = userdata.get('OPENAI_API_KEY')\n",
        "os.environ[\"OPENAI_API_KEY\"] =\"sk-proj-qxoKlAc0Jg415kEc6EQoT3BlbkFJKkSBa1fEvBV5vkbC6aiS\"\n",
        "\n",
        "# Uncomment the below to use LangSmith. Not required.\n",
        "# os.environ[\"LANGCHAIN_API_KEY\"] = getpass.getpass()\n",
        "# os.environ[\"LANGCHAIN_TRACING_V2\"] = \"true\""
      ]
    },
    {
      "cell_type": "code",
      "execution_count": 8,
      "metadata": {
        "id": "IgSGfuwS40se"
      },
      "outputs": [],
      "source": [
        "import os\n",
        "\n",
        "from langchain_experimental.graph_transformers import LLMGraphTransformer\n",
        "from langchain_openai import ChatOpenAI\n",
        "\n",
        "llm = ChatOpenAI(temperature=0, model_name=\"gpt-4-turbo\")\n",
        "\n",
        "llm_transformer = LLMGraphTransformer(llm=llm)"
      ]
    },
    {
      "cell_type": "code",
      "execution_count": 9,
      "metadata": {
        "colab": {
          "base_uri": "https://localhost:8080/"
        },
        "id": "BvGsM-p5422n",
        "outputId": "93cf13af-d9fa-44ee-c2f7-f50e16a3723d"
      },
      "outputs": [
        {
          "name": "stdout",
          "output_type": "stream",
          "text": [
            "Nodes:[Node(id='Marie Curie', type='Person'), Node(id='Pierre Curie', type='Person'), Node(id='University Of Paris', type='Organization')]\n",
            "Relationships:[Relationship(source=Node(id='Marie Curie', type='Person'), target=Node(id='Pierre Curie', type='Person'), type='SPOUSE'), Relationship(source=Node(id='Marie Curie', type='Person'), target=Node(id='University Of Paris', type='Organization'), type='PROFESSOR')]\n"
          ]
        }
      ],
      "source": [
        "from langchain_core.documents import Document\n",
        "\n",
        "text = \"\"\"\n",
        "The U.S.-headquartered energy giant, ExxonMobil, is making strides in pursuing a versatile emission reduction approach to leave its mark on the global decarbonization scoreboard, as there is no single solution to the energy transition conundrum .\n",
        "Illustration; Source: ExxonMobil Over the past few years, ExxonMobil has intensified its efforts to cut its greenhouse gas (GHG) emissions footprint. To this end, 2021 saw the U.S. oil major reveal its Scope 1 and 2 greenhouse gas emission-reduction plans for 2030 in comparison with 2016 levels, covering operated assets. Based on these plans the firm intends to achieve a 20-30% reduction in corporate-wide greenhouse gas intensity; a 40-50% reduction in GHG intensity of upstream operations; a 70-80% reduction in corporate-wide methane intensity; and a 60-70% reduction in corporate-wide flaring intensity.\n",
        "With this at the forefront, the U.S. energy heavyweight is set on advancing a diverse range of technologies, including low-carbon hydrogen , ammonia , and carbon capture, utilization, and storage (CCUS) , which have the potential to significantly lower emissions in hard-to-abate sectors such as manufacturing and power. The company also aims to reach net zero Scope 1 and 2 GHG emissions from its operated assets by 2050, through technological advancements and the support of what it believes should be clear and consistent government policies on this issue.\n",
        "Related Article long read Posted: 5 months ago ExxonMobil CEO: World in need of plan to address climate change alongside energy needs Categories: Transition Posted: 5 months ago With the political environment around the globe tending to send mixed signals on the energy transition agenda, depending on who is in power in which region and the geopolitical and other challenges the world is forced to contend with, ExxonMobil’s Low Carbon Solutions business decided to create a poll on LinkedIn, asking participants to pinpoint the primary challenge facing their company amid the energy transition.\n",
        "The biggest chunk, 40%, of voters identified regulatory uncertainty as the main issue, followed by financial constraints with 26%, lack of infrastructure with 21%, and technological barriers bringing up the rear with 12% of all votes. The results of the poll do not come as a surprise given the current energy policy and investment climate around the globe.\n",
        "While the U.S. has its regulatory hurdles to overcome, just like Australia and many other countries, the UK is high on the list of countries where political and fiscal uncertainty are believed to have wreaked havoc on energy investments, derailing the development of certain projects due to the hit investor confidence has taken. Some, such as Bureau Veritas , see the current issues as hidden opportunities that could, potentially, be turned into big gains in the energy transition journey.\n",
        "Related Article long read Posted: 2 months ago Premium Interview with Bureau Veritas: US LNG permitting freeze could unleash upsurge in renewables and hydrogen Categories: Market Outlooks Posted: 2 months ago The American Petroleum Institute (API) , a U.S. trade association representing the oil and gas industry, is among those that see the industry’s collaboration on energy policy as an essential element for the acceleration of energy innovation and emission reductions. The U.S. has characterized methane emission cuts as a priority for its domestic oil and natural gas industry to address the risks of climate change. In line with this, the methane footprint from oil and natural gas operations has fallen by 37% since 2015 while energy production increased by 39% in the largest U.S. basins.\n",
        "Mike Sommers , API’s President and CEO, highlighted: “The U.S. oil and natural gas industry is leading the world in accelerating methane detection, reduction and reporting technology and is poised to unleash low-carbon hydrogen energy at scale. To fully leverage America’s energy advantage and advance climate progress, continued collaboration between energy producers and policymakers will be essential. Furthermore, the U.S. oil and natural gas industry is also making inroads in stepping up its hydrogen game with many, along with API, expecting it to play a significant role across the low-carbon hydrogen value chain, supporting the Biden administration ’s stated goal of producing 10 million metric tons (MMT) of hydrogen by 2030 and 50 MMT by 2050. The right set of policies is believed to be the key to putting the U.S. hydrogen economy on the path to generating 700,000 jobs and an economic benefit of $140 billion by 2030, driving down CO₂ emissions in hard-to-electrify sectors such as heavy industry, aviation, steel, and cement.\n",
        "Related Article Posted: 2 months ago Biden-Harris administration to back US hydrogen industry with $750 million Categories: Authorities & Government Posted: 2 months ago In light of this, ExxonMobil has upped its hydrogen ante with plans to build – what it describes as – the world’s largest low-carbon hydrogen production facility in Baytown , Texas. The U.S. player’s goal is to produce up to 1 billion cubic feet per day of low-carbon hydrogen made from natural gas at the facility, as it is convinced that scaling hydrogen solutions will help its customers meet their emission-reduction goals. Another solution the company has identified as the way to minimize carbon footprint is the maximization of carbon capture and storage (CCS) endeavors.\n",
        "Aside from these, ExxonMobil’s low-carbon vision also includes lithium , with plans to spearhead this solution in North America by 2030 while also playing its part in supporting the electric vehicle revolution, as pathways to leverage innovation and collaboration to accelerate society’s path to net zero. Recently, the U.S. giant inked a project framework agreement (PFA) with JERA , Japan’s largest power generation company, to jointly explore the development of a low-carbon hydrogen and ammonia production project at its Baytown facility. The duo aims to explore together JERA’s procurement of 5 MTA of ammonia and ownership participation in the Baytown low-carbon hydrogen facility.\n",
        "Related Article Posted: about 1 month ago ExxonMobil partners with JERA for its low-carbon hydrogen project Categories: Business Developments & Projects Posted: about 1 month ago Moreover, ExxonMobil disclosed a definitive agreement to acquire Pioneer Natural Resources in an all-stock transaction, valued at $59.5 billion, in October 2023. With the merger completed, the two players will have an estimated 16 billion barrels of oil-equivalent resources with more than 1.4 million net acres in the Delaware and Midland basins, creating a Permian Basin giant as production volume is set to more than double to 1.3 million barrels of oil equivalent per day, but that is not all.\n",
        "Not only does the U.S. oil major intends to achieve net-zero Scope 1 and Scope 2 greenhouse gas emissions from its Permian unconventional operations by 2030, but it also plans to leverage its Permian greenhouse gas reduction plans to accelerate Pioneer’s Scope 1 and 2 net-zero emissions goal by 15 years. In addition, the U.S. oil major will also apply its technologies for monitoring, measuring, and addressing fugitive methane emissions to slash the combined companies’ methane footprint.\n",
        "Darren Woods , ExxonMobil’s Chairman and CEO, emphasized: “This premier, tier-one asset is a natural fit for our Permian portfolio and gives us a greater opportunity to deploy our technology and deliver operating and capital efficiency for long-term shareholder value.\n",
        "“The combination of our two companies benefits this country’s energy security and economy, and also furthers society’s environmental ambitions as we move Pioneer’s 2050 net zero goal to a 2035 plan.”\n",
        "Recently, ExxonMobil bolstered its global hydrocarbon portfolio with a new oil discovery in Block 15 off the coast of Angola and a hydrocarbon discovery at an exploration well in the Petronas-operated Block 52 offshore Suriname.Related Article Posted: 2 days ago ExxonMobil hits oil offshore Angola and takes steps to search for more hydrocarbons Categories: Exploration & Production Posted: 2 days ago Prior to this, the U.S. giant made another oil discovery on the Stabroek block offshore Guyana.\n",
        "\"\"\"\n",
        "\n",
        "\n",
        "text = \"\"\"\n",
        "Marie Curie, born in 1867, was a Polish and naturalised-French physicist and chemist who conducted pioneering research on radioactivity.\n",
        "She was the first woman to win a Nobel Prize, the first person to win a Nobel Prize twice, and the only person to win a Nobel Prize in two scientific fields.\n",
        "Her husband, Pierre Curie, was a co-winner of her first Nobel Prize, making them the first-ever married couple to win the Nobel Prize and launching the Curie family legacy of five Nobel Prizes.\n",
        "She was, in 1906, the first woman to become a professor at the University of Paris.\n",
        "\"\"\"\n",
        "documents = [Document(page_content=text)]\n",
        "graph_documents = llm_transformer.convert_to_graph_documents(documents)\n",
        "print(f\"Nodes:{graph_documents[0].nodes}\")\n",
        "print(f\"Relationships:{graph_documents[0].relationships}\")"
      ]
    },
    {
      "cell_type": "code",
      "execution_count": 10,
      "metadata": {
        "colab": {
          "base_uri": "https://localhost:8080/"
        },
        "id": "8bnkoJBa59cd",
        "outputId": "ccaa64f1-ea67-48e9-bf8d-a22cea8ee8ae"
      },
      "outputs": [
        {
          "name": "stdout",
          "output_type": "stream",
          "text": [
            "Requirement already satisfied: pyvis in c:\\users\\tanle\\documents\\1d-final-project-summer-2024-sds-2024-team-08\\.venv\\lib\\site-packages (0.3.2)\n",
            "Requirement already satisfied: ipython>=5.3.0 in c:\\users\\tanle\\documents\\1d-final-project-summer-2024-sds-2024-team-08\\.venv\\lib\\site-packages (from pyvis) (8.26.0)\n",
            "Requirement already satisfied: jinja2>=2.9.6 in c:\\users\\tanle\\documents\\1d-final-project-summer-2024-sds-2024-team-08\\.venv\\lib\\site-packages (from pyvis) (3.1.4)\n",
            "Requirement already satisfied: jsonpickle>=1.4.1 in c:\\users\\tanle\\documents\\1d-final-project-summer-2024-sds-2024-team-08\\.venv\\lib\\site-packages (from pyvis) (3.2.2)\n",
            "Requirement already satisfied: networkx>=1.11 in c:\\users\\tanle\\documents\\1d-final-project-summer-2024-sds-2024-team-08\\.venv\\lib\\site-packages (from pyvis) (3.3)\n",
            "Requirement already satisfied: decorator in c:\\users\\tanle\\documents\\1d-final-project-summer-2024-sds-2024-team-08\\.venv\\lib\\site-packages (from ipython>=5.3.0->pyvis) (5.1.1)\n",
            "Requirement already satisfied: jedi>=0.16 in c:\\users\\tanle\\documents\\1d-final-project-summer-2024-sds-2024-team-08\\.venv\\lib\\site-packages (from ipython>=5.3.0->pyvis) (0.19.1)\n",
            "Requirement already satisfied: matplotlib-inline in c:\\users\\tanle\\documents\\1d-final-project-summer-2024-sds-2024-team-08\\.venv\\lib\\site-packages (from ipython>=5.3.0->pyvis) (0.1.7)\n",
            "Requirement already satisfied: prompt-toolkit<3.1.0,>=3.0.41 in c:\\users\\tanle\\documents\\1d-final-project-summer-2024-sds-2024-team-08\\.venv\\lib\\site-packages (from ipython>=5.3.0->pyvis) (3.0.47)\n",
            "Requirement already satisfied: pygments>=2.4.0 in c:\\users\\tanle\\documents\\1d-final-project-summer-2024-sds-2024-team-08\\.venv\\lib\\site-packages (from ipython>=5.3.0->pyvis) (2.18.0)\n",
            "Requirement already satisfied: stack-data in c:\\users\\tanle\\documents\\1d-final-project-summer-2024-sds-2024-team-08\\.venv\\lib\\site-packages (from ipython>=5.3.0->pyvis) (0.6.3)\n",
            "Requirement already satisfied: traitlets>=5.13.0 in c:\\users\\tanle\\documents\\1d-final-project-summer-2024-sds-2024-team-08\\.venv\\lib\\site-packages (from ipython>=5.3.0->pyvis) (5.14.3)\n",
            "Requirement already satisfied: colorama in c:\\users\\tanle\\documents\\1d-final-project-summer-2024-sds-2024-team-08\\.venv\\lib\\site-packages (from ipython>=5.3.0->pyvis) (0.4.6)\n",
            "Requirement already satisfied: MarkupSafe>=2.0 in c:\\users\\tanle\\documents\\1d-final-project-summer-2024-sds-2024-team-08\\.venv\\lib\\site-packages (from jinja2>=2.9.6->pyvis) (2.1.5)\n",
            "Requirement already satisfied: parso<0.9.0,>=0.8.3 in c:\\users\\tanle\\documents\\1d-final-project-summer-2024-sds-2024-team-08\\.venv\\lib\\site-packages (from jedi>=0.16->ipython>=5.3.0->pyvis) (0.8.4)\n",
            "Requirement already satisfied: wcwidth in c:\\users\\tanle\\documents\\1d-final-project-summer-2024-sds-2024-team-08\\.venv\\lib\\site-packages (from prompt-toolkit<3.1.0,>=3.0.41->ipython>=5.3.0->pyvis) (0.2.13)\n",
            "Requirement already satisfied: executing>=1.2.0 in c:\\users\\tanle\\documents\\1d-final-project-summer-2024-sds-2024-team-08\\.venv\\lib\\site-packages (from stack-data->ipython>=5.3.0->pyvis) (2.0.1)\n",
            "Requirement already satisfied: asttokens>=2.1.0 in c:\\users\\tanle\\documents\\1d-final-project-summer-2024-sds-2024-team-08\\.venv\\lib\\site-packages (from stack-data->ipython>=5.3.0->pyvis) (2.4.1)\n",
            "Requirement already satisfied: pure-eval in c:\\users\\tanle\\documents\\1d-final-project-summer-2024-sds-2024-team-08\\.venv\\lib\\site-packages (from stack-data->ipython>=5.3.0->pyvis) (0.2.2)\n",
            "Requirement already satisfied: six>=1.12.0 in c:\\users\\tanle\\documents\\1d-final-project-summer-2024-sds-2024-team-08\\.venv\\lib\\site-packages (from asttokens>=2.1.0->stack-data->ipython>=5.3.0->pyvis) (1.16.0)\n",
            "Note: you may need to restart the kernel to use updated packages.\n"
          ]
        }
      ],
      "source": [
        "pip install pyvis"
      ]
    },
    {
      "cell_type": "code",
      "execution_count": 11,
      "metadata": {},
      "outputs": [
        {
          "name": "stdout",
          "output_type": "stream",
          "text": [
            "id='Marie Curie' type='Person'\n",
            "id='Pierre Curie' type='Person'\n",
            "id='University Of Paris' type='Organization'\n",
            "source=Node(id='Marie Curie', type='Person') target=Node(id='Pierre Curie', type='Person') type='SPOUSE'\n",
            "source=Node(id='Marie Curie', type='Person') target=Node(id='University Of Paris', type='Organization') type='PROFESSOR'\n"
          ]
        }
      ],
      "source": [
        "for sh in graph_documents[0].nodes:\n",
        "    print(sh)\n",
        "    # print(type(sh))\n",
        "\n",
        "for rs in graph_documents[0].relationships:\n",
        "    print(rs)"
      ]
    },
    {
      "cell_type": "code",
      "execution_count": 12,
      "metadata": {
        "colab": {
          "base_uri": "https://localhost:8080/",
          "height": 676
        },
        "id": "9m3ZBIHN56lI",
        "outputId": "3c62208d-5e4b-4c09-ec24-807cdf29dccc"
      },
      "outputs": [
        {
          "name": "stdout",
          "output_type": "stream",
          "text": [
            "Warning: When  cdn_resources is 'local' jupyter notebook has issues displaying graphics on chrome/safari. Use cdn_resources='in_line' or cdn_resources='remote' if you have issues viewing graphics in a notebook.\n"
          ]
        },
        {
          "ename": "TypeError",
          "evalue": "Network.add_node() missing 1 required positional argument: 'n_id'",
          "output_type": "error",
          "traceback": [
            "\u001b[1;31m---------------------------------------------------------------------------\u001b[0m",
            "\u001b[1;31mTypeError\u001b[0m                                 Traceback (most recent call last)",
            "Cell \u001b[1;32mIn[12], line 9\u001b[0m\n\u001b[0;32m      7\u001b[0m \u001b[38;5;66;03m# Step 2: Add nodes and edges\u001b[39;00m\n\u001b[0;32m      8\u001b[0m \u001b[38;5;28;01mfor\u001b[39;00m sh \u001b[38;5;129;01min\u001b[39;00m graph_documents[\u001b[38;5;241m0\u001b[39m]\u001b[38;5;241m.\u001b[39mnodes:\n\u001b[1;32m----> 9\u001b[0m     \u001b[43mnet\u001b[49m\u001b[38;5;241;43m.\u001b[39;49m\u001b[43madd_node\u001b[49m\u001b[43m(\u001b[49m\u001b[43m)\u001b[49m\n\u001b[0;32m     10\u001b[0m net\u001b[38;5;241m.\u001b[39madd_node(\u001b[38;5;124m\"\u001b[39m\u001b[38;5;124mMarie Curie\u001b[39m\u001b[38;5;124m\"\u001b[39m, label\u001b[38;5;241m=\u001b[39m\u001b[38;5;124m\"\u001b[39m\u001b[38;5;124mMarie Curie\u001b[39m\u001b[38;5;124m\"\u001b[39m, title\u001b[38;5;241m=\u001b[39m\u001b[38;5;124m\"\u001b[39m\u001b[38;5;124mPerson\u001b[39m\u001b[38;5;124m\"\u001b[39m, color\u001b[38;5;241m=\u001b[39m\u001b[38;5;124m\"\u001b[39m\u001b[38;5;124mlightgreen\u001b[39m\u001b[38;5;124m\"\u001b[39m)\n\u001b[0;32m     11\u001b[0m net\u001b[38;5;241m.\u001b[39madd_node(\u001b[38;5;124m\"\u001b[39m\u001b[38;5;124mPierre Curie\u001b[39m\u001b[38;5;124m\"\u001b[39m, label\u001b[38;5;241m=\u001b[39m\u001b[38;5;124m\"\u001b[39m\u001b[38;5;124mPierre Curie\u001b[39m\u001b[38;5;124m\"\u001b[39m, title\u001b[38;5;241m=\u001b[39m\u001b[38;5;124m\"\u001b[39m\u001b[38;5;124mPerson\u001b[39m\u001b[38;5;124m\"\u001b[39m, color\u001b[38;5;241m=\u001b[39m\u001b[38;5;124m\"\u001b[39m\u001b[38;5;124mlightgreen\u001b[39m\u001b[38;5;124m\"\u001b[39m)\n",
            "\u001b[1;31mTypeError\u001b[0m: Network.add_node() missing 1 required positional argument: 'n_id'"
          ]
        }
      ],
      "source": [
        "from pyvis.network import Network\n",
        "\n",
        "# Step 1: Create a Pyvis network\n",
        "net = Network(notebook=True)\n",
        "net = Network(notebook=True, cdn_resources='in_line')\n",
        "\n",
        "# Step 2: Add nodes and edges\n",
        "for sh in graph_documents[0].nodes:\n",
        "    net.add_node()\n",
        "net.add_node(\"Marie Curie\", label=\"Marie Curie\", title=\"Person\", color=\"lightgreen\")\n",
        "net.add_node(\"Pierre Curie\", label=\"Pierre Curie\", title=\"Person\", color=\"lightgreen\")\n",
        "net.add_node(\"University Of Paris\", label=\"University Of Paris\", title=\"Organization\", color=\"lightcoral\")\n",
        "net.add_node(\"Poland\", label=\"Poland\", title=\"Country\", color=\"lightblue\")\n",
        "net.add_node(\"France\", label=\"France\", title=\"Country\", color=\"lightblue\")\n",
        "\n",
        "net.add_edge(\"Marie Curie\", \"Pierre Curie\", title=\"SPOUSE\")\n",
        "net.add_edge(\"Marie Curie\", \"University Of Paris\", title=\"WORKED_AT\")\n",
        "net.add_edge(\"Marie Curie\", \"Poland\", title=\"NATIONALITY\")\n",
        "net.add_edge(\"Marie Curie\", \"France\", title=\"NATIONALITY\")\n",
        "\n",
        "# Step 3: Visualize the network\n",
        "\n",
        "\n",
        "\n",
        "# Step 3: Visualize the network and save it to an HTML file\n",
        "net_html = net.generate_html()  # Generate the HTML content\n",
        "\n",
        "# Write the HTML content to a file with UTF-8 encoding\n",
        "with open(\"marie_curie_graph.html\", 'w', encoding='utf-8') as file:\n",
        "    file.write(net_html)\n",
        "\n",
        "# Optionally, you can open the HTML file in the default web browser\n",
        "import webbrowser\n",
        "webbrowser.open(\"marie_curie_graph.html\")\n",
        "\n",
        "\n",
        "\n",
        "# net.show(\"marie_curie_graph.html\", )\n",
        "# with open(\"marie_curie_graph.html\", 'w') as file:\n",
        "#     file.write(net.show(\"marie_curie_graph.html\"))"
      ]
    }
  ],
  "metadata": {
    "colab": {
      "provenance": []
    },
    "kernelspec": {
      "display_name": "Python 3",
      "name": "python3"
    },
    "language_info": {
      "codemirror_mode": {
        "name": "ipython",
        "version": 3
      },
      "file_extension": ".py",
      "mimetype": "text/x-python",
      "name": "python",
      "nbconvert_exporter": "python",
      "pygments_lexer": "ipython3",
      "version": "3.12.4"
    }
  },
  "nbformat": 4,
  "nbformat_minor": 0
}
