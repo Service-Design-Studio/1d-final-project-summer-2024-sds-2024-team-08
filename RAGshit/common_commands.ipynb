{
 "cells": [
  {
   "cell_type": "code",
   "execution_count": null,
   "metadata": {},
   "outputs": [],
   "source": [
    "!pip show #package\n",
    "!pip freeze #shows all installed libraries"
   ]
  },
  {
   "cell_type": "code",
   "execution_count": null,
   "metadata": {},
   "outputs": [],
   "source": [
    "The following models support the Function Calling feature:\n",
    "\n",
    "gemini-1.0-pro\n",
    "gemini-1.0-pro-001\n",
    "gemini-1.5-flash-latest\n",
    "gemini-1.5-pro-latest"
   ]
  },
  {
   "cell_type": "code",
   "execution_count": null,
   "metadata": {},
   "outputs": [],
   "source": []
  }
 ],
 "metadata": {
  "kernelspec": {
   "display_name": ".venv",
   "language": "python",
   "name": "python3"
  },
  "language_info": {
   "name": "python",
   "version": "3.11.5"
  }
 },
 "nbformat": 4,
 "nbformat_minor": 2
}
