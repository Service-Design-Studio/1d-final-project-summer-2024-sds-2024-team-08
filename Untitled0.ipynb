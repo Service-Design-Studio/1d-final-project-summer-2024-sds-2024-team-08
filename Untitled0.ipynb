{
  "cells": [
    {
      "cell_type": "code",
      "execution_count": 13,
      "metadata": {
        "colab": {
          "base_uri": "https://localhost:8080/"
        },
        "id": "HP5_m43q4Iq_",
        "outputId": "0cf60e61-0fc5-4be6-d3be-e14d7a9619f8"
      },
      "outputs": [
        {
          "name": "stdout",
          "output_type": "stream",
          "text": [
            "Note: you may need to restart the kernel to use updated packages.\n"
          ]
        }
      ],
      "source": [
        "%pip install --upgrade --quiet  langchain langchain-community langchain-openai langchain-experimental neo4j"
      ]
    },
    {
      "cell_type": "code",
      "execution_count": 14,
      "metadata": {
        "id": "GkopxQq24YhM"
      },
      "outputs": [],
      "source": [
        "import getpass\n",
        "import os\n",
        "# from google.colab import userdata\n",
        "\n",
        "# os.environ[\"OPENAI_API_KEY\"] = userdata.get('OPENAI_API_KEY')\n",
        "os.environ[\"OPENAI_API_KEY\"] =\"sk-proj-qxoKlAc0Jg415kEc6EQoT3BlbkFJKkSBa1fEvBV5vkbC6aiS\"\n",
        "\n",
        "# Uncomment the below to use LangSmith. Not required.\n",
        "# os.environ[\"LANGCHAIN_API_KEY\"] = getpass.getpass()\n",
        "# os.environ[\"LANGCHAIN_TRACING_V2\"] = \"true\""
      ]
    },
    {
      "cell_type": "code",
      "execution_count": 15,
      "metadata": {
        "id": "IgSGfuwS40se"
      },
      "outputs": [],
      "source": [
        "import os\n",
        "\n",
        "from langchain_experimental.graph_transformers import LLMGraphTransformer\n",
        "from langchain_openai import ChatOpenAI\n",
        "\n",
        "llm = ChatOpenAI(temperature=0, model_name=\"gpt-4-turbo\")\n",
        "\n",
        "llm_transformer = LLMGraphTransformer(llm=llm)"
      ]
    },
    {
      "cell_type": "code",
      "execution_count": 16,
      "metadata": {
        "colab": {
          "base_uri": "https://localhost:8080/"
        },
        "id": "BvGsM-p5422n",
        "outputId": "93cf13af-d9fa-44ee-c2f7-f50e16a3723d"
      },
      "outputs": [
        {
          "name": "stdout",
          "output_type": "stream",
          "text": [
            "Nodes:[Node(id='Marie Curie', type='Person'), Node(id='Pierre Curie', type='Person'), Node(id='University Of Paris', type='Organization')]\n",
            "Relationships:[Relationship(source=Node(id='Marie Curie', type='Person'), target=Node(id='Pierre Curie', type='Person'), type='SPOUSE'), Relationship(source=Node(id='Marie Curie', type='Person'), target=Node(id='University Of Paris', type='Organization'), type='PROFESSOR')]\n"
          ]
        }
      ],
      "source": [
        "from langchain_core.documents import Document\n",
        "\n",
        "text = \"\"\"\n",
        "Marie Curie, born in 1867, was a Polish and naturalised-French physicist and chemist who conducted pioneering research on radioactivity.\n",
        "She was the first woman to win a Nobel Prize, the first person to win a Nobel Prize twice, and the only person to win a Nobel Prize in two scientific fields.\n",
        "Her husband, Pierre Curie, was a co-winner of her first Nobel Prize, making them the first-ever married couple to win the Nobel Prize and launching the Curie family legacy of five Nobel Prizes.\n",
        "She was, in 1906, the first woman to become a professor at the University of Paris.\n",
        "\"\"\"\n",
        "documents = [Document(page_content=text)]\n",
        "graph_documents = llm_transformer.convert_to_graph_documents(documents)\n",
        "print(f\"Nodes:{graph_documents[0].nodes}\")\n",
        "print(f\"Relationships:{graph_documents[0].relationships}\")"
      ]
    },
    {
      "cell_type": "code",
      "execution_count": 17,
      "metadata": {
        "colab": {
          "base_uri": "https://localhost:8080/"
        },
        "id": "8bnkoJBa59cd",
        "outputId": "ccaa64f1-ea67-48e9-bf8d-a22cea8ee8ae"
      },
      "outputs": [
        {
          "name": "stdout",
          "output_type": "stream",
          "text": [
            "Requirement already satisfied: pyvis in c:\\users\\tan le zhan\\documents\\github\\1d-final-project-summer-2024-sds-2024-team-08\\.venv\\lib\\site-packages (0.3.2)\n",
            "Requirement already satisfied: ipython>=5.3.0 in c:\\users\\tan le zhan\\documents\\github\\1d-final-project-summer-2024-sds-2024-team-08\\.venv\\lib\\site-packages (from pyvis) (8.26.0)\n",
            "Requirement already satisfied: jinja2>=2.9.6 in c:\\users\\tan le zhan\\documents\\github\\1d-final-project-summer-2024-sds-2024-team-08\\.venv\\lib\\site-packages (from pyvis) (3.1.4)\n",
            "Requirement already satisfied: jsonpickle>=1.4.1 in c:\\users\\tan le zhan\\documents\\github\\1d-final-project-summer-2024-sds-2024-team-08\\.venv\\lib\\site-packages (from pyvis) (3.2.2)\n",
            "Requirement already satisfied: networkx>=1.11 in c:\\users\\tan le zhan\\documents\\github\\1d-final-project-summer-2024-sds-2024-team-08\\.venv\\lib\\site-packages (from pyvis) (3.3)\n",
            "Requirement already satisfied: decorator in c:\\users\\tan le zhan\\documents\\github\\1d-final-project-summer-2024-sds-2024-team-08\\.venv\\lib\\site-packages (from ipython>=5.3.0->pyvis) (5.1.1)\n",
            "Requirement already satisfied: jedi>=0.16 in c:\\users\\tan le zhan\\documents\\github\\1d-final-project-summer-2024-sds-2024-team-08\\.venv\\lib\\site-packages (from ipython>=5.3.0->pyvis) (0.19.1)\n",
            "Requirement already satisfied: matplotlib-inline in c:\\users\\tan le zhan\\documents\\github\\1d-final-project-summer-2024-sds-2024-team-08\\.venv\\lib\\site-packages (from ipython>=5.3.0->pyvis) (0.1.7)\n",
            "Requirement already satisfied: prompt-toolkit<3.1.0,>=3.0.41 in c:\\users\\tan le zhan\\documents\\github\\1d-final-project-summer-2024-sds-2024-team-08\\.venv\\lib\\site-packages (from ipython>=5.3.0->pyvis) (3.0.47)\n",
            "Requirement already satisfied: pygments>=2.4.0 in c:\\users\\tan le zhan\\documents\\github\\1d-final-project-summer-2024-sds-2024-team-08\\.venv\\lib\\site-packages (from ipython>=5.3.0->pyvis) (2.18.0)\n",
            "Requirement already satisfied: stack-data in c:\\users\\tan le zhan\\documents\\github\\1d-final-project-summer-2024-sds-2024-team-08\\.venv\\lib\\site-packages (from ipython>=5.3.0->pyvis) (0.6.3)\n",
            "Requirement already satisfied: traitlets>=5.13.0 in c:\\users\\tan le zhan\\documents\\github\\1d-final-project-summer-2024-sds-2024-team-08\\.venv\\lib\\site-packages (from ipython>=5.3.0->pyvis) (5.14.3)\n",
            "Requirement already satisfied: colorama in c:\\users\\tan le zhan\\documents\\github\\1d-final-project-summer-2024-sds-2024-team-08\\.venv\\lib\\site-packages (from ipython>=5.3.0->pyvis) (0.4.6)\n",
            "Requirement already satisfied: MarkupSafe>=2.0 in c:\\users\\tan le zhan\\documents\\github\\1d-final-project-summer-2024-sds-2024-team-08\\.venv\\lib\\site-packages (from jinja2>=2.9.6->pyvis) (2.1.5)\n",
            "Requirement already satisfied: parso<0.9.0,>=0.8.3 in c:\\users\\tan le zhan\\documents\\github\\1d-final-project-summer-2024-sds-2024-team-08\\.venv\\lib\\site-packages (from jedi>=0.16->ipython>=5.3.0->pyvis) (0.8.4)\n",
            "Requirement already satisfied: wcwidth in c:\\users\\tan le zhan\\documents\\github\\1d-final-project-summer-2024-sds-2024-team-08\\.venv\\lib\\site-packages (from prompt-toolkit<3.1.0,>=3.0.41->ipython>=5.3.0->pyvis) (0.2.13)\n",
            "Requirement already satisfied: executing>=1.2.0 in c:\\users\\tan le zhan\\documents\\github\\1d-final-project-summer-2024-sds-2024-team-08\\.venv\\lib\\site-packages (from stack-data->ipython>=5.3.0->pyvis) (2.0.1)\n",
            "Requirement already satisfied: asttokens>=2.1.0 in c:\\users\\tan le zhan\\documents\\github\\1d-final-project-summer-2024-sds-2024-team-08\\.venv\\lib\\site-packages (from stack-data->ipython>=5.3.0->pyvis) (2.4.1)\n",
            "Requirement already satisfied: pure-eval in c:\\users\\tan le zhan\\documents\\github\\1d-final-project-summer-2024-sds-2024-team-08\\.venv\\lib\\site-packages (from stack-data->ipython>=5.3.0->pyvis) (0.2.2)\n",
            "Requirement already satisfied: six>=1.12.0 in c:\\users\\tan le zhan\\documents\\github\\1d-final-project-summer-2024-sds-2024-team-08\\.venv\\lib\\site-packages (from asttokens>=2.1.0->stack-data->ipython>=5.3.0->pyvis) (1.16.0)\n",
            "Note: you may need to restart the kernel to use updated packages.\n"
          ]
        }
      ],
      "source": [
        "pip install pyvis"
      ]
    },
    {
      "cell_type": "code",
      "execution_count": 18,
      "metadata": {
        "colab": {
          "base_uri": "https://localhost:8080/",
          "height": 676
        },
        "id": "9m3ZBIHN56lI",
        "outputId": "3c62208d-5e4b-4c09-ec24-807cdf29dccc"
      },
      "outputs": [
        {
          "name": "stdout",
          "output_type": "stream",
          "text": [
            "Warning: When  cdn_resources is 'local' jupyter notebook has issues displaying graphics on chrome/safari. Use cdn_resources='in_line' or cdn_resources='remote' if you have issues viewing graphics in a notebook.\n"
          ]
        },
        {
          "data": {
            "text/plain": [
              "True"
            ]
          },
          "execution_count": 18,
          "metadata": {},
          "output_type": "execute_result"
        }
      ],
      "source": [
        "pip install pyvis\n",
        "from pyvis.network import Network\n",
        "\n",
        "# Step 1: Create a Pyvis network\n",
        "net = Network(notebook=True)\n",
        "net = Network(notebook=True, cdn_resources='in_line')\n",
        "\n",
        "# Step 2: Add nodes and edges\n",
        "net.add_node(\"Marie Curie\", label=\"Marie Curie\", title=\"Person\", color=\"lightgreen\")\n",
        "net.add_node(\"Pierre Curie\", label=\"Pierre Curie\", title=\"Person\", color=\"lightgreen\")\n",
        "net.add_node(\"University Of Paris\", label=\"University Of Paris\", title=\"Organization\", color=\"lightcoral\")\n",
        "net.add_node(\"Poland\", label=\"Poland\", title=\"Country\", color=\"lightblue\")\n",
        "net.add_node(\"France\", label=\"France\", title=\"Country\", color=\"lightblue\")\n",
        "\n",
        "net.add_edge(\"Marie Curie\", \"Pierre Curie\", title=\"SPOUSE\")\n",
        "net.add_edge(\"Marie Curie\", \"University Of Paris\", title=\"WORKED_AT\")\n",
        "net.add_edge(\"Marie Curie\", \"Poland\", title=\"NATIONALITY\")\n",
        "net.add_edge(\"Marie Curie\", \"France\", title=\"NATIONALITY\")\n",
        "\n",
        "# Step 3: Visualize the network\n",
        "\n",
        "\n",
        "\n",
        "# Step 3: Visualize the network and save it to an HTML file\n",
        "net_html = net.generate_html()  # Generate the HTML content\n",
        "\n",
        "# Write the HTML content to a file with UTF-8 encoding\n",
        "with open(\"marie_curie_graph.html\", 'w', encoding='utf-8') as file:\n",
        "    file.write(net_html)\n",
        "\n",
        "# Optionally, you can open the HTML file in the default web browser\n",
        "import webbrowser\n",
        "webbrowser.open(\"marie_curie_graph.html\")\n",
        "\n",
        "\n",
        "\n",
        "# net.show(\"marie_curie_graph.html\", )\n",
        "# with open(\"marie_curie_graph.html\", 'w') as file:\n",
        "#     file.write(net.show(\"marie_curie_graph.html\"))"
      ]
    }
  ],
  "metadata": {
    "colab": {
      "provenance": []
    },
    "kernelspec": {
      "display_name": "Python 3",
      "name": "python3"
    },
    "language_info": {
      "codemirror_mode": {
        "name": "ipython",
        "version": 3
      },
      "file_extension": ".py",
      "mimetype": "text/x-python",
      "name": "python",
      "nbconvert_exporter": "python",
      "pygments_lexer": "ipython3",
      "version": "3.12.4"
    }
  },
  "nbformat": 4,
  "nbformat_minor": 0
}
