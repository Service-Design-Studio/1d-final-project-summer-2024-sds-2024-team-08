{
  "cells": [
    {
      "cell_type": "code",
      "execution_count": 2,
      "metadata": {
        "colab": {
          "base_uri": "https://localhost:8080/"
        },
        "id": "HP5_m43q4Iq_",
        "outputId": "0cf60e61-0fc5-4be6-d3be-e14d7a9619f8"
      },
      "outputs": [
        {
          "name": "stdout",
          "output_type": "stream",
          "text": [
            "Note: you may need to restart the kernel to use updated packages.\n"
          ]
        }
      ],
      "source": [
        "%pip install --upgrade --quiet  langchain langchain-community langchain-openai langchain-experimental neo4j"
      ]
    },
    {
      "cell_type": "code",
      "execution_count": 3,
      "metadata": {
        "id": "GkopxQq24YhM"
      },
      "outputs": [],
      "source": [
        "import getpass\n",
        "import os\n",
        "# from google.colab import userdata\n",
        "\n",
        "# os.environ[\"OPENAI_API_KEY\"] = userdata.get('OPENAI_API_KEY')\n",
        "os.environ[\"OPENAI_API_KEY\"] =\"sk-proj-qxoKlAc0Jg415kEc6EQoT3BlbkFJKkSBa1fEvBV5vkbC6aiS\"\n",
        "\n",
        "# Uncomment the below to use LangSmith. Not required.\n",
        "# os.environ[\"LANGCHAIN_API_KEY\"] = getpass.getpass()\n",
        "# os.environ[\"LANGCHAIN_TRACING_V2\"] = \"true\""
      ]
    },
    {
      "cell_type": "code",
      "execution_count": 4,
      "metadata": {
        "id": "IgSGfuwS40se"
      },
      "outputs": [],
      "source": [
        "import os\n",
        "\n",
        "from langchain_experimental.graph_transformers import LLMGraphTransformer\n",
        "from langchain_openai import ChatOpenAI\n",
        "\n",
        "llm = ChatOpenAI(temperature=0, model_name=\"gpt-4-turbo\")\n",
        "\n",
        "llm_transformer = LLMGraphTransformer(llm=llm)"
      ]
    },
    {
      "cell_type": "code",
      "execution_count": 5,
      "metadata": {
        "colab": {
          "base_uri": "https://localhost:8080/"
        },
        "id": "BvGsM-p5422n",
        "outputId": "93cf13af-d9fa-44ee-c2f7-f50e16a3723d"
      },
      "outputs": [
        {
          "name": "stdout",
          "output_type": "stream",
          "text": [
            "Nodes:[Node(id='Exxonmobil', type='Organization'), Node(id='Baytown', type='Location'), Node(id='Jera', type='Organization'), Node(id='Pioneer Natural Resources', type='Organization'), Node(id='Darren Woods', type='Person'), Node(id='American Petroleum Institute', type='Organization'), Node(id='Mike Sommers', type='Person'), Node(id='Biden Administration', type='Organization'), Node(id='Bureau Veritas', type='Organization')]\n",
            "Relationships:[Relationship(source=Node(id='Exxonmobil', type='Organization'), target=Node(id='Baytown', type='Location'), type='PLANS_TO_BUILD'), Relationship(source=Node(id='Exxonmobil', type='Organization'), target=Node(id='Jera', type='Organization'), type='PARTNERS_WITH'), Relationship(source=Node(id='Exxonmobil', type='Organization'), target=Node(id='Pioneer Natural Resources', type='Organization'), type='ACQUIRES'), Relationship(source=Node(id='Darren Woods', type='Person'), target=Node(id='Exxonmobil', type='Organization'), type='CEO_OF'), Relationship(source=Node(id='American Petroleum Institute', type='Organization'), target=Node(id='Mike Sommers', type='Person'), type='CEO_OF'), Relationship(source=Node(id='Biden Administration', type='Organization'), target=Node(id='American Petroleum Institute', type='Organization'), type='SUPPORTS'), Relationship(source=Node(id='Bureau Veritas', type='Organization'), target=Node(id='Exxonmobil', type='Organization'), type='SEES_OPPORTUNITY_WITH')]\n"
          ]
        }
      ],
      "source": [
        "from langchain_core.documents import Document\n",
        "\n",
        "text = \"\"\"\n",
        "The U.S.-headquartered energy giant, ExxonMobil, is making strides in pursuing a versatile emission reduction approach to leave its mark on the global decarbonization scoreboard, as there is no single solution to the energy transition conundrum .\n",
        "Illustration; Source: ExxonMobil Over the past few years, ExxonMobil has intensified its efforts to cut its greenhouse gas (GHG) emissions footprint. To this end, 2021 saw the U.S. oil major reveal its Scope 1 and 2 greenhouse gas emission-reduction plans for 2030 in comparison with 2016 levels, covering operated assets. Based on these plans the firm intends to achieve a 20-30% reduction in corporate-wide greenhouse gas intensity; a 40-50% reduction in GHG intensity of upstream operations; a 70-80% reduction in corporate-wide methane intensity; and a 60-70% reduction in corporate-wide flaring intensity.\n",
        "With this at the forefront, the U.S. energy heavyweight is set on advancing a diverse range of technologies, including low-carbon hydrogen , ammonia , and carbon capture, utilization, and storage (CCUS) , which have the potential to significantly lower emissions in hard-to-abate sectors such as manufacturing and power. The company also aims to reach net zero Scope 1 and 2 GHG emissions from its operated assets by 2050, through technological advancements and the support of what it believes should be clear and consistent government policies on this issue.\n",
        "Related Article long read Posted: 5 months ago ExxonMobil CEO: World in need of plan to address climate change alongside energy needs Categories: Transition Posted: 5 months ago With the political environment around the globe tending to send mixed signals on the energy transition agenda, depending on who is in power in which region and the geopolitical and other challenges the world is forced to contend with, ExxonMobil’s Low Carbon Solutions business decided to create a poll on LinkedIn, asking participants to pinpoint the primary challenge facing their company amid the energy transition.\n",
        "The biggest chunk, 40%, of voters identified regulatory uncertainty as the main issue, followed by financial constraints with 26%, lack of infrastructure with 21%, and technological barriers bringing up the rear with 12% of all votes. The results of the poll do not come as a surprise given the current energy policy and investment climate around the globe.\n",
        "While the U.S. has its regulatory hurdles to overcome, just like Australia and many other countries, the UK is high on the list of countries where political and fiscal uncertainty are believed to have wreaked havoc on energy investments, derailing the development of certain projects due to the hit investor confidence has taken. Some, such as Bureau Veritas , see the current issues as hidden opportunities that could, potentially, be turned into big gains in the energy transition journey.\n",
        "Related Article long read Posted: 2 months ago Premium Interview with Bureau Veritas: US LNG permitting freeze could unleash upsurge in renewables and hydrogen Categories: Market Outlooks Posted: 2 months ago The American Petroleum Institute (API) , a U.S. trade association representing the oil and gas industry, is among those that see the industry’s collaboration on energy policy as an essential element for the acceleration of energy innovation and emission reductions. The U.S. has characterized methane emission cuts as a priority for its domestic oil and natural gas industry to address the risks of climate change. In line with this, the methane footprint from oil and natural gas operations has fallen by 37% since 2015 while energy production increased by 39% in the largest U.S. basins.\n",
        "Mike Sommers , API’s President and CEO, highlighted: “The U.S. oil and natural gas industry is leading the world in accelerating methane detection, reduction and reporting technology and is poised to unleash low-carbon hydrogen energy at scale. To fully leverage America’s energy advantage and advance climate progress, continued collaboration between energy producers and policymakers will be essential. Furthermore, the U.S. oil and natural gas industry is also making inroads in stepping up its hydrogen game with many, along with API, expecting it to play a significant role across the low-carbon hydrogen value chain, supporting the Biden administration ’s stated goal of producing 10 million metric tons (MMT) of hydrogen by 2030 and 50 MMT by 2050. The right set of policies is believed to be the key to putting the U.S. hydrogen economy on the path to generating 700,000 jobs and an economic benefit of $140 billion by 2030, driving down CO₂ emissions in hard-to-electrify sectors such as heavy industry, aviation, steel, and cement.\n",
        "Related Article Posted: 2 months ago Biden-Harris administration to back US hydrogen industry with $750 million Categories: Authorities & Government Posted: 2 months ago In light of this, ExxonMobil has upped its hydrogen ante with plans to build – what it describes as – the world’s largest low-carbon hydrogen production facility in Baytown , Texas. The U.S. player’s goal is to produce up to 1 billion cubic feet per day of low-carbon hydrogen made from natural gas at the facility, as it is convinced that scaling hydrogen solutions will help its customers meet their emission-reduction goals. Another solution the company has identified as the way to minimize carbon footprint is the maximization of carbon capture and storage (CCS) endeavors.\n",
        "Aside from these, ExxonMobil’s low-carbon vision also includes lithium , with plans to spearhead this solution in North America by 2030 while also playing its part in supporting the electric vehicle revolution, as pathways to leverage innovation and collaboration to accelerate society’s path to net zero. Recently, the U.S. giant inked a project framework agreement (PFA) with JERA , Japan’s largest power generation company, to jointly explore the development of a low-carbon hydrogen and ammonia production project at its Baytown facility. The duo aims to explore together JERA’s procurement of 5 MTA of ammonia and ownership participation in the Baytown low-carbon hydrogen facility.\n",
        "Related Article Posted: about 1 month ago ExxonMobil partners with JERA for its low-carbon hydrogen project Categories: Business Developments & Projects Posted: about 1 month ago Moreover, ExxonMobil disclosed a definitive agreement to acquire Pioneer Natural Resources in an all-stock transaction, valued at $59.5 billion, in October 2023. With the merger completed, the two players will have an estimated 16 billion barrels of oil-equivalent resources with more than 1.4 million net acres in the Delaware and Midland basins, creating a Permian Basin giant as production volume is set to more than double to 1.3 million barrels of oil equivalent per day, but that is not all.\n",
        "Not only does the U.S. oil major intends to achieve net-zero Scope 1 and Scope 2 greenhouse gas emissions from its Permian unconventional operations by 2030, but it also plans to leverage its Permian greenhouse gas reduction plans to accelerate Pioneer’s Scope 1 and 2 net-zero emissions goal by 15 years. In addition, the U.S. oil major will also apply its technologies for monitoring, measuring, and addressing fugitive methane emissions to slash the combined companies’ methane footprint.\n",
        "Darren Woods , ExxonMobil’s Chairman and CEO, emphasized: “This premier, tier-one asset is a natural fit for our Permian portfolio and gives us a greater opportunity to deploy our technology and deliver operating and capital efficiency for long-term shareholder value.\n",
        "“The combination of our two companies benefits this country’s energy security and economy, and also furthers society’s environmental ambitions as we move Pioneer’s 2050 net zero goal to a 2035 plan.”\n",
        "Recently, ExxonMobil bolstered its global hydrocarbon portfolio with a new oil discovery in Block 15 off the coast of Angola and a hydrocarbon discovery at an exploration well in the Petronas-operated Block 52 offshore Suriname.Related Article Posted: 2 days ago ExxonMobil hits oil offshore Angola and takes steps to search for more hydrocarbons Categories: Exploration & Production Posted: 2 days ago Prior to this, the U.S. giant made another oil discovery on the Stabroek block offshore Guyana.\n",
        "\"\"\"\n",
        "documents = [Document(page_content=text)]\n",
        "graph_documents = llm_transformer.convert_to_graph_documents(documents)\n",
        "print(f\"Nodes:{graph_documents[0].nodes}\")\n",
        "print(f\"Relationships:{graph_documents[0].relationships}\")"
      ]
    },
    {
      "cell_type": "code",
      "execution_count": null,
      "metadata": {
        "colab": {
          "base_uri": "https://localhost:8080/"
        },
        "id": "8bnkoJBa59cd",
        "outputId": "ccaa64f1-ea67-48e9-bf8d-a22cea8ee8ae"
      },
      "outputs": [],
      "source": [
        "pip install pyvis"
      ]
    },
    {
      "cell_type": "code",
      "execution_count": 12,
      "metadata": {},
      "outputs": [
        {
          "name": "stdout",
          "output_type": "stream",
          "text": [
            "id='Exxonmobil' type='Organization'\n",
            "id='Baytown' type='Location'\n",
            "id='Jera' type='Organization'\n",
            "id='Pioneer Natural Resources' type='Organization'\n",
            "id='Darren Woods' type='Person'\n",
            "id='American Petroleum Institute' type='Organization'\n",
            "id='Mike Sommers' type='Person'\n",
            "id='Biden Administration' type='Organization'\n",
            "id='Bureau Veritas' type='Organization'\n",
            "source=Node(id='Exxonmobil', type='Organization') target=Node(id='Baytown', type='Location') type='PLANS_TO_BUILD'\n",
            "source=Node(id='Exxonmobil', type='Organization') target=Node(id='Jera', type='Organization') type='PARTNERS_WITH'\n",
            "source=Node(id='Exxonmobil', type='Organization') target=Node(id='Pioneer Natural Resources', type='Organization') type='ACQUIRES'\n",
            "source=Node(id='Darren Woods', type='Person') target=Node(id='Exxonmobil', type='Organization') type='CEO_OF'\n",
            "source=Node(id='American Petroleum Institute', type='Organization') target=Node(id='Mike Sommers', type='Person') type='CEO_OF'\n",
            "source=Node(id='Biden Administration', type='Organization') target=Node(id='American Petroleum Institute', type='Organization') type='SUPPORTS'\n",
            "source=Node(id='Bureau Veritas', type='Organization') target=Node(id='Exxonmobil', type='Organization') type='SEES_OPPORTUNITY_WITH'\n"
          ]
        }
      ],
      "source": [
        "for sh in graph_documents[0].nodes:\n",
        "    print(sh)\n",
        "    # print(type(sh))\n",
        "\n",
        "for rs in graph_documents[0].relationships:\n",
        "    print(rs)"
      ]
    },
    {
      "cell_type": "code",
      "execution_count": 7,
      "metadata": {
        "colab": {
          "base_uri": "https://localhost:8080/",
          "height": 676
        },
        "id": "9m3ZBIHN56lI",
        "outputId": "3c62208d-5e4b-4c09-ec24-807cdf29dccc"
      },
      "outputs": [
        {
          "name": "stdout",
          "output_type": "stream",
          "text": [
            "Warning: When  cdn_resources is 'local' jupyter notebook has issues displaying graphics on chrome/safari. Use cdn_resources='in_line' or cdn_resources='remote' if you have issues viewing graphics in a notebook.\n"
          ]
        },
        {
          "data": {
            "text/plain": [
              "True"
            ]
          },
          "execution_count": 7,
          "metadata": {},
          "output_type": "execute_result"
        }
      ],
      "source": [
        "from pyvis.network import Network\n",
        "\n",
        "# Step 1: Create a Pyvis network\n",
        "net = Network(notebook=True)\n",
        "net = Network(notebook=True, cdn_resources='in_line')\n",
        "\n",
        "# Step 2: Add nodes and edges\n",
        "for sh in graph_documents[0].nodes:\n",
        "    net.add_node()\n",
        "net.add_node(\"Marie Curie\", label=\"Marie Curie\", title=\"Person\", color=\"lightgreen\")\n",
        "net.add_node(\"Pierre Curie\", label=\"Pierre Curie\", title=\"Person\", color=\"lightgreen\")\n",
        "net.add_node(\"University Of Paris\", label=\"University Of Paris\", title=\"Organization\", color=\"lightcoral\")\n",
        "net.add_node(\"Poland\", label=\"Poland\", title=\"Country\", color=\"lightblue\")\n",
        "net.add_node(\"France\", label=\"France\", title=\"Country\", color=\"lightblue\")\n",
        "\n",
        "net.add_edge(\"Marie Curie\", \"Pierre Curie\", title=\"SPOUSE\")\n",
        "net.add_edge(\"Marie Curie\", \"University Of Paris\", title=\"WORKED_AT\")\n",
        "net.add_edge(\"Marie Curie\", \"Poland\", title=\"NATIONALITY\")\n",
        "net.add_edge(\"Marie Curie\", \"France\", title=\"NATIONALITY\")\n",
        "\n",
        "# Step 3: Visualize the network\n",
        "\n",
        "\n",
        "\n",
        "# Step 3: Visualize the network and save it to an HTML file\n",
        "net_html = net.generate_html()  # Generate the HTML content\n",
        "\n",
        "# Write the HTML content to a file with UTF-8 encoding\n",
        "with open(\"marie_curie_graph.html\", 'w', encoding='utf-8') as file:\n",
        "    file.write(net_html)\n",
        "\n",
        "# Optionally, you can open the HTML file in the default web browser\n",
        "import webbrowser\n",
        "webbrowser.open(\"marie_curie_graph.html\")\n",
        "\n",
        "\n",
        "\n",
        "# net.show(\"marie_curie_graph.html\", )\n",
        "# with open(\"marie_curie_graph.html\", 'w') as file:\n",
        "#     file.write(net.show(\"marie_curie_graph.html\"))"
      ]
    }
  ],
  "metadata": {
    "colab": {
      "provenance": []
    },
    "kernelspec": {
      "display_name": "Python 3",
      "name": "python3"
    },
    "language_info": {
      "codemirror_mode": {
        "name": "ipython",
        "version": 3
      },
      "file_extension": ".py",
      "mimetype": "text/x-python",
      "name": "python",
      "nbconvert_exporter": "python",
      "pygments_lexer": "ipython3",
      "version": "3.12.4"
    }
  },
  "nbformat": 4,
  "nbformat_minor": 0
}
